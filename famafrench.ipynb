{
 "cells": [
  {
   "cell_type": "markdown",
   "metadata": {
    "ExecuteTime": {
     "end_time": "2020-06-24T04:40:30.997909Z",
     "start_time": "2020-06-24T04:40:30.992268Z"
    }
   },
   "source": [
    "# Factor Investing and Fama-French model\n",
    "\n",
    "**Copyright &copy; 2020 Ondrej Martinsky, All rights reserved**\n",
    "\n",
    "[www.github.com/omartinsky/FamaFrench](https://github.com/omartinsky/FamaFrench)"
   ]
  },
  {
   "cell_type": "code",
   "execution_count": 1,
   "metadata": {
    "ExecuteTime": {
     "end_time": "2020-06-24T04:43:17.620211Z",
     "start_time": "2020-06-24T04:43:11.793679Z"
    },
    "cell_style": "center",
    "code_folding": [],
    "scrolled": true
   },
   "outputs": [
    {
     "name": "stderr",
     "output_type": "stream",
     "text": [
      "/var/folders/fj/4vv2tyt94_l44bxlschbrx5h0000gn/T/ipykernel_90513/3355595522.py:9: DeprecationWarning: Importing display from IPython.core.display is deprecated since IPython 7.14, please import from IPython display\n",
      "  from IPython.core.display import display, HTML\n",
      "/Users/marmarti/Documents/GITProjects/FamaFrench/MMFamaFrench/famafrench.py:54: FutureWarning: DataFrame.replace without 'value' and with non-dict-like 'to_replace' is deprecated and will raise in a future version. Explicitly specify the new values instead.\n",
      "  p = p.replace(-99.99, math.nan).replace(999) / 100\n"
     ]
    },
    {
     "name": "stdout",
     "output_type": "stream",
     "text": [
      "/Users/marmarti/Documents/GITProjects/FamaFrench/MMFamaFrench\n",
      "Univariate SMB.csv\n",
      "Module 'io' is installed.\n",
      "/Users/marmarti/Documents/GITProjects/FamaFrench/MMFamaFrench\n",
      ".DS_Store\n",
      "Error decoding file content.\n",
      "Module 'io' is installed.\n",
      "Error decoding file content.\n"
     ]
    },
    {
     "name": "stderr",
     "output_type": "stream",
     "text": [
      "/Users/marmarti/Documents/GITProjects/FamaFrench/MMFamaFrench/famafrench.py:54: FutureWarning: DataFrame.replace without 'value' and with non-dict-like 'to_replace' is deprecated and will raise in a future version. Explicitly specify the new values instead.\n",
      "  p = p.replace(-99.99, math.nan).replace(999) / 100\n"
     ]
    },
    {
     "ename": "UnicodeDecodeError",
     "evalue": "'utf-8' codec can't decode byte 0x80 in position 3131: invalid start byte",
     "output_type": "error",
     "traceback": [
      "\u001b[0;31m---------------------------------------------------------------------------\u001b[0m",
      "\u001b[0;31mUnicodeDecodeError\u001b[0m                        Traceback (most recent call last)",
      "Cell \u001b[0;32mIn[1], line 10\u001b[0m\n\u001b[1;32m      8\u001b[0m \u001b[38;5;28;01mfrom\u001b[39;00m \u001b[38;5;21;01mpandas\u001b[39;00m\u001b[38;5;21;01m.\u001b[39;00m\u001b[38;5;21;01mplotting\u001b[39;00m \u001b[38;5;28;01mimport\u001b[39;00m register_matplotlib_converters\n\u001b[1;32m      9\u001b[0m \u001b[38;5;28;01mfrom\u001b[39;00m \u001b[38;5;21;01mIPython\u001b[39;00m\u001b[38;5;21;01m.\u001b[39;00m\u001b[38;5;21;01mcore\u001b[39;00m\u001b[38;5;21;01m.\u001b[39;00m\u001b[38;5;21;01mdisplay\u001b[39;00m \u001b[38;5;28;01mimport\u001b[39;00m display, HTML\n\u001b[0;32m---> 10\u001b[0m \u001b[38;5;28;01mimport\u001b[39;00m \u001b[38;5;21;01mfamafrench\u001b[39;00m\n\u001b[1;32m     11\u001b[0m register_matplotlib_converters()\n",
      "File \u001b[0;32m~/Documents/GITProjects/FamaFrench/MMFamaFrench/famafrench.py:296\u001b[0m\n\u001b[1;32m    291\u001b[0m         \u001b[38;5;28mprint\u001b[39m(\u001b[38;5;124mf\u001b[39m\u001b[38;5;124m\"\u001b[39m\u001b[38;5;124mtiming \u001b[39m\u001b[38;5;124m'\u001b[39m\u001b[38;5;132;01m{\u001b[39;00m\u001b[38;5;28mself\u001b[39m\u001b[38;5;241m.\u001b[39mname\u001b[38;5;132;01m}\u001b[39;00m\u001b[38;5;124m'\u001b[39m\u001b[38;5;124m \u001b[39m\u001b[38;5;132;01m{\u001b[39;00m\u001b[38;5;28mint\u001b[39m(\u001b[38;5;28mself\u001b[39m\u001b[38;5;241m.\u001b[39minterval\u001b[38;5;250m \u001b[39m\u001b[38;5;241m*\u001b[39m\u001b[38;5;250m \u001b[39m\u001b[38;5;241m1000\u001b[39m)\u001b[38;5;132;01m}\u001b[39;00m\u001b[38;5;124m ms\u001b[39m\u001b[38;5;124m\"\u001b[39m)\n\u001b[1;32m    294\u001b[0m \u001b[38;5;66;03m###\u001b[39;00m\n\u001b[0;32m--> 296\u001b[0m portfolios \u001b[38;5;241m=\u001b[39m load_all_portfolios()\n\u001b[1;32m    297\u001b[0m df_factors \u001b[38;5;241m=\u001b[39m load_dataframes(\u001b[38;5;124m'\u001b[39m\u001b[38;5;124mdata-factors/F-F_Research_Data_5_Factors_2x3_daily.csv\u001b[39m\u001b[38;5;124m'\u001b[39m)[\u001b[38;5;124m'\u001b[39m\u001b[38;5;124m'\u001b[39m]\n\u001b[1;32m    298\u001b[0m factors_list \u001b[38;5;241m=\u001b[39m [c \u001b[38;5;28;01mfor\u001b[39;00m c \u001b[38;5;129;01min\u001b[39;00m df_factors\u001b[38;5;241m.\u001b[39mcolumns \u001b[38;5;28;01mif\u001b[39;00m c \u001b[38;5;241m!=\u001b[39m \u001b[38;5;124m'\u001b[39m\u001b[38;5;124mRF\u001b[39m\u001b[38;5;124m'\u001b[39m]\n",
      "File \u001b[0;32m~/Documents/GITProjects/FamaFrench/MMFamaFrench/famafrench.py:75\u001b[0m, in \u001b[0;36mload_all_portfolios\u001b[0;34m()\u001b[0m\n\u001b[1;32m     73\u001b[0m \u001b[38;5;28;01mexcept\u001b[39;00m \u001b[38;5;167;01mUnicodeDecodeError\u001b[39;00m:\n\u001b[1;32m     74\u001b[0m     \u001b[38;5;28mprint\u001b[39m(\u001b[38;5;124m\"\u001b[39m\u001b[38;5;124mError decoding file content.\u001b[39m\u001b[38;5;124m\"\u001b[39m)\n\u001b[0;32m---> 75\u001b[0m fileport \u001b[38;5;241m=\u001b[39m load_dataframes(os\u001b[38;5;241m.\u001b[39mpath\u001b[38;5;241m.\u001b[39mjoin(\u001b[38;5;124m'\u001b[39m\u001b[38;5;124mdata-portfolios\u001b[39m\u001b[38;5;124m'\u001b[39m, file))\n\u001b[1;32m     76\u001b[0m \u001b[38;5;28;01mfor\u001b[39;00m k2, v2 \u001b[38;5;129;01min\u001b[39;00m fileport\u001b[38;5;241m.\u001b[39mitems():\n\u001b[1;32m     77\u001b[0m     \u001b[38;5;28;01mfor\u001b[39;00m k3, v3 \u001b[38;5;129;01min\u001b[39;00m v2\u001b[38;5;241m.\u001b[39mitems():\n",
      "File \u001b[0;32m~/Documents/GITProjects/FamaFrench/MMFamaFrench/famafrench.py:44\u001b[0m, in \u001b[0;36mload_dataframes\u001b[0;34m(file)\u001b[0m\n\u001b[1;32m     42\u001b[0m name \u001b[38;5;241m=\u001b[39m \u001b[38;5;28;01mNone\u001b[39;00m\n\u001b[1;32m     43\u001b[0m data \u001b[38;5;241m=\u001b[39m defaultdict(\u001b[38;5;28mlist\u001b[39m)\n\u001b[0;32m---> 44\u001b[0m \u001b[38;5;28;01mfor\u001b[39;00m line \u001b[38;5;129;01min\u001b[39;00m reader\u001b[38;5;241m.\u001b[39mreadlines():\n\u001b[1;32m     45\u001b[0m     \u001b[38;5;28;01mif\u001b[39;00m line\u001b[38;5;241m.\u001b[39mstartswith(\u001b[38;5;124m\"\u001b[39m\u001b[38;5;124m#data-begin#\u001b[39m\u001b[38;5;124m\"\u001b[39m):\n\u001b[1;32m     46\u001b[0m         name \u001b[38;5;241m=\u001b[39m line[line\u001b[38;5;241m.\u001b[39mrfind(\u001b[38;5;124m\"\u001b[39m\u001b[38;5;124m#\u001b[39m\u001b[38;5;124m\"\u001b[39m) \u001b[38;5;241m+\u001b[39m \u001b[38;5;241m1\u001b[39m:]\u001b[38;5;241m.\u001b[39mrstrip(\u001b[38;5;124m'\u001b[39m\u001b[38;5;130;01m\\n\u001b[39;00m\u001b[38;5;124m'\u001b[39m)\n",
      "File \u001b[0;32m<frozen codecs>:322\u001b[0m, in \u001b[0;36mdecode\u001b[0;34m(self, input, final)\u001b[0m\n",
      "\u001b[0;31mUnicodeDecodeError\u001b[0m: 'utf-8' codec can't decode byte 0x80 in position 3131: invalid start byte"
     ]
    }
   ],
   "source": [
    "import pandas as pd\n",
    "import matplotlib.pyplot as plt\n",
    "import ipywidgets as wx\n",
    "from ipywidgets import interact\n",
    "from sklearn.model_selection import train_test_split\n",
    "from sklearn.linear_model import LinearRegression\n",
    "from sklearn.metrics import mean_absolute_error\n",
    "from pandas.plotting import register_matplotlib_converters\n",
    "from IPython.core.display import display, HTML\n",
    "import famafrench\n",
    "register_matplotlib_converters()"
   ]
  },
  {
   "cell_type": "code",
   "execution_count": null,
   "metadata": {
    "ExecuteTime": {
     "end_time": "2020-06-24T04:43:17.633216Z",
     "start_time": "2020-06-24T04:43:17.626208Z"
    },
    "cell_style": "center",
    "code_folding": []
   },
   "outputs": [],
   "source": [
    "def create_ma_radios(value):\n",
    "    return wx.RadioButtons(value=value, options=famafrench.lookup_ma.keys(), description='Roll Avg')"
   ]
  },
  {
   "cell_type": "markdown",
   "metadata": {
    "cell_style": "center"
   },
   "source": [
    "# Fama French\n",
    "\n",
    "$ r = R_f + b_m \\cdot \\text{MER} + b_s \\cdot \\text{SMB} + b_v \\cdot \\text{HML} + b_p \\cdot \\text{RMW} + b_i \\cdot \\text{CMA} $\n",
    "\n",
    "$r$ is expected portfolio return \\\n",
    "$b_m$, $b_s$, $b_v$, $b_p$, $b_i$ are factor sensitivities\n",
    "\n",
    "# Factors Analysis\n",
    "$\\text{MER}$ is excess return of a broad market over the risk-free rate ($R_m - R_f$) (**market factor**) \\\n",
    "$\\text{SMB}$ is the average return on the *small* stock portfolios minus *big* stock portfolios (**size factor**) \\\n",
    "$\\text{HML}$ is the average return on *high* book value portfolios minus *low* book value (**value factor**)  \\\n",
    "$\\text{RMW}$ is the average return on *robust* minus *weak* operating profitability portfolios (**profitability factor**) \\\n",
    "$\\text{CMA}$ Conservative minus aggresive investments, proxied by the y/y growth in company asset value (**investment factor**)\n",
    "\n",
    "Definitions: https://mba.tuck.dartmouth.edu/pages/faculty/ken.french/Data_Library/f-f_5_factors_2x3.html"
   ]
  },
  {
   "cell_type": "code",
   "execution_count": null,
   "metadata": {
    "ExecuteTime": {
     "end_time": "2020-06-24T04:43:17.792113Z",
     "start_time": "2020-06-24T04:43:17.639090Z"
    },
    "cell_style": "center",
    "code_folding": []
   },
   "outputs": [],
   "source": [
    "display(HTML('<b>Factors time series</b>'), famafrench.df_factors)\n",
    "display(HTML('<b>Factors Statistics</b>'), famafrench.df_factors.describe().T)\n",
    "display(HTML('<b>Factors Correlation Matrix</b>'), famafrench.df_factors.corr())"
   ]
  },
  {
   "cell_type": "code",
   "execution_count": null,
   "metadata": {
    "ExecuteTime": {
     "end_time": "2020-06-24T04:43:19.020135Z",
     "start_time": "2020-06-24T04:43:17.796116Z"
    },
    "cell_style": "center",
    "code_folding": []
   },
   "outputs": [],
   "source": [
    "display(HTML(\"<b>Distribution Analysis</b>\"))\n",
    "    \n",
    "wx_ff=wx.Dropdown(options=famafrench.lookup_factors.keys(), description='Factor')\n",
    "wx_ma=create_ma_radios('1D')\n",
    "wx_out1=wx.interactive_output(famafrench.plot_factor_hists, {'ff':wx_ff, 'ma':wx_ma})\n",
    "wx_out2=wx.interactive_output(famafrench.plot_factor_timeseries, {'ff':wx_ff, 'ma':wx_ma})\n",
    "display(wx.HBox([wx_ff, wx_ma]), wx_out1, wx_out2)"
   ]
  },
  {
   "cell_type": "markdown",
   "metadata": {},
   "source": [
    "# Portfolio Analysis"
   ]
  },
  {
   "cell_type": "code",
   "execution_count": null,
   "metadata": {
    "ExecuteTime": {
     "end_time": "2020-06-24T04:43:28.386129Z",
     "start_time": "2020-06-24T04:43:19.024131Z"
    },
    "code_folding": []
   },
   "outputs": [],
   "source": [
    "def create_factor_radios():\n",
    "    return {\n",
    "        'f_mer': wx.Checkbox(description='MER', indent=False, layout=chkbox_layout, value=True),\n",
    "        'f_smb': wx.Checkbox(description='SMB', indent=False, layout=chkbox_layout, value=True),\n",
    "        'f_hml': wx.Checkbox(description='HML', indent=False, layout=chkbox_layout, value=True),\n",
    "        'f_rmw': wx.Checkbox(description='RMW', indent=False, layout=chkbox_layout),\n",
    "        'f_cma': wx.Checkbox(description='CMA', indent=False, layout=chkbox_layout),\n",
    "    }\n",
    "\n",
    "def create_portfolio_dropdown():\n",
    "    return wx.Dropdown(options=famafrench.portfolios.keys(), description='Portfolio', layout=wx.Layout(width='500px'))\n",
    "\n",
    "\n",
    "chkbox_layout = wx.Layout(width='70px')\n",
    "wx_pname = create_portfolio_dropdown()\n",
    "wx_ma = create_ma_radios('3Y')\n",
    "wx_factor_list = create_factor_radios()\n",
    "wx_daterange=wx.SelectionRangeSlider(options=range(1960,2021), index=(0, len(range(1960,2021))-1), description='Range', continuous_update=False, layout=wx.Layout(width='500px'))\n",
    "wx_out=wx.interactive_output(famafrench.fit_portfolio_returns, {'pname':wx_pname, **wx_factor_list , 'ma': wx_ma, 'daterange': wx_daterange})\n",
    "wx_out.layout.height='700px'\n",
    "wx_out_r2hist = wx.interactive_output(famafrench.draw_R2_hist, {'pname':wx_pname, 'daterange': wx_daterange})\n",
    "wx_out_r2series = wx.interactive_output(famafrench.draw_R2_series, {'pname':wx_pname, **wx_factor_list, 'daterange': wx_daterange})\n",
    "display(\n",
    "    wx_pname, \n",
    "    wx.HBox([wx_daterange, *(wx_factor_list.values())]),\n",
    "    wx.HBox([wx_out_r2hist, wx_out_r2series]),\n",
    "    wx.HBox([wx_out, wx_ma]))"
   ]
  }
 ],
 "metadata": {
  "kernelspec": {
   "display_name": "Python 3 (ipykernel)",
   "language": "python",
   "name": "python3"
  },
  "language_info": {
   "codemirror_mode": {
    "name": "ipython",
    "version": 3
   },
   "file_extension": ".py",
   "mimetype": "text/x-python",
   "name": "python",
   "nbconvert_exporter": "python",
   "pygments_lexer": "ipython3",
   "version": "3.11.8"
  }
 },
 "nbformat": 4,
 "nbformat_minor": 4
}
